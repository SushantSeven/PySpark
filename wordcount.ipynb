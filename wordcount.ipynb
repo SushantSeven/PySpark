{
 "cells": [
  {
   "cell_type": "code",
   "execution_count": 11,
   "metadata": {},
   "outputs": [],
   "source": [
    "from pyspark.sql import SparkSession\n",
    "from pyspark.sql.functions import explode,split"
   ]
  },
  {
   "cell_type": "code",
   "execution_count": 12,
   "metadata": {},
   "outputs": [],
   "source": [
    "spark =SparkSession.builder\\\n",
    "                   .master(\"local\")\\\n",
    "                   .appName(\"wordcount\")\\\n",
    "                   .getOrCreate()"
   ]
  },
  {
   "cell_type": "code",
   "execution_count": 13,
   "metadata": {},
   "outputs": [],
   "source": [
    "df = spark.read.text('D:/CFP_DATA_ENGINEERING_LYTX/PySpark_repo/PySpark/testtext.txt')"
   ]
  },
  {
   "cell_type": "code",
   "execution_count": 44,
   "metadata": {},
   "outputs": [
    {
     "name": "stdout",
     "output_type": "stream",
     "text": [
      "+--------------------+\n",
      "|               value|\n",
      "+--------------------+\n",
      "|The data in the n...|\n",
      "+--------------------+\n",
      "\n"
     ]
    }
   ],
   "source": [
    "df.show()"
   ]
  },
  {
   "cell_type": "code",
   "execution_count": 46,
   "metadata": {},
   "outputs": [
    {
     "name": "stdout",
     "output_type": "stream",
     "text": [
      "+-------------+\n",
      "|         word|\n",
      "+-------------+\n",
      "|          The|\n",
      "|         data|\n",
      "|           in|\n",
      "|          the|\n",
      "|      network|\n",
      "|        model|\n",
      "|          are|\n",
      "|  represented|\n",
      "|           by|\n",
      "|   collection|\n",
      "|           of|\n",
      "|      records|\n",
      "|          and|\n",
      "|relationships|\n",
      "|        among|\n",
      "|         data|\n",
      "|          are|\n",
      "|  represented|\n",
      "|           by|\n",
      "|        links|\n",
      "+-------------+\n",
      "only showing top 20 rows\n",
      "\n"
     ]
    }
   ],
   "source": [
    "df_words = df.select(explode(split(df.value,\" \")).alias(\"word\"))\n",
    "df_words.show()"
   ]
  },
  {
   "cell_type": "code",
   "execution_count": 49,
   "metadata": {},
   "outputs": [
    {
     "name": "stdout",
     "output_type": "stream",
     "text": [
      "+-------------+-----+\n",
      "|word         |count|\n",
      "+-------------+-----+\n",
      "|among        |1    |\n",
      "|pointers.    |1    |\n",
      "|viewed       |1    |\n",
      "|by           |2    |\n",
      "|records      |1    |\n",
      "|collection   |1    |\n",
      "|can          |1    |\n",
      "|relationships|1    |\n",
      "|links        |1    |\n",
      "|in           |1    |\n",
      "|be           |1    |\n",
      "|model        |1    |\n",
      "|represented  |2    |\n",
      "|network      |1    |\n",
      "|data         |2    |\n",
      "|the          |1    |\n",
      "|and          |1    |\n",
      "|are          |2    |\n",
      "|of           |1    |\n",
      "|The          |1    |\n",
      "+-------------+-----+\n",
      "only showing top 20 rows\n",
      "\n"
     ]
    }
   ],
   "source": [
    "count_word = df_words.groupBy('word').count()\n",
    "count_word.show(truncate = False)"
   ]
  },
  {
   "cell_type": "code",
   "execution_count": null,
   "metadata": {},
   "outputs": [
    {
     "ename": "AttributeError",
     "evalue": "'GroupedData' object has no attribute 'show'",
     "output_type": "error",
     "traceback": [
      "\u001b[1;31m---------------------------------------------------------------------------\u001b[0m",
      "\u001b[1;31mAttributeError\u001b[0m                            Traceback (most recent call last)",
      "Cell \u001b[1;32mIn[53], line 1\u001b[0m\n\u001b[1;32m----> 1\u001b[0m \u001b[43mdf_words\u001b[49m\u001b[38;5;241;43m.\u001b[39;49m\u001b[43mgroupBy\u001b[49m\u001b[43m(\u001b[49m\u001b[38;5;124;43m'\u001b[39;49m\u001b[38;5;124;43mword\u001b[39;49m\u001b[38;5;124;43m'\u001b[39;49m\u001b[43m)\u001b[49m\u001b[38;5;241;43m.\u001b[39;49m\u001b[43mshow\u001b[49m()\n",
      "\u001b[1;31mAttributeError\u001b[0m: 'GroupedData' object has no attribute 'show'"
     ]
    }
   ],
   "source": [
    "df_words.groupBy('word').show()"
   ]
  }
 ],
 "metadata": {
  "kernelspec": {
   "display_name": "Python 3",
   "language": "python",
   "name": "python3"
  },
  "language_info": {
   "name": "python",
   "version": "3.9.11"
  }
 },
 "nbformat": 4,
 "nbformat_minor": 2
}
